{
 "cells": [
  {
   "cell_type": "code",
   "execution_count": 10,
   "id": "0848b7ab",
   "metadata": {},
   "outputs": [],
   "source": [
    "from collections import OrderedDict\n",
    "\n",
    "\n",
    "import numpy as np\n",
    "import torch\n",
    "import os"
   ]
  },
  {
   "cell_type": "code",
   "execution_count": 11,
   "id": "cc56044a",
   "metadata": {},
   "outputs": [],
   "source": [
    "dataset_root = \"lensless-mono\"\n",
    "\n",
    "image_files_path = []\n",
    "for root, folders, files in os.walk(dataset_root):\n",
    "    # print(p)\n",
    "    # if root == dataset_root:\n",
    "    #     continue\n",
    "    if len(files) == 0:\n",
    "        continue\n",
    "        \n",
    "    for p in files:\n",
    "        if p.endswith(\"tif\"):\n",
    "            image_files_path.append((root, os.path.join(root, p)))\n",
    "\n",
    "image_files_path\n",
    "\n",
    "led_position = np.array(\n",
    "    [\n",
    "        [0, 92.5, 130],\n",
    "        [0, 75.5, 130],\n",
    "        [0, 58.5, 130],\n",
    "        [0, 41.5, 130],\n",
    "        [0, 24.5, 130],\n",
    "        [0, 7.5, 130]\n",
    "    ]\n",
    ")\n",
    "\n",
    "sensor_position = np.array([0, 48.25, 0])\n",
    "\n",
    "led_position_rel = led_position - sensor_position"
   ]
  },
  {
   "cell_type": "code",
   "execution_count": 16,
   "id": "14a8b3f1",
   "metadata": {},
   "outputs": [],
   "source": [
    "data = OrderedDict()"
   ]
  },
  {
   "cell_type": "code",
   "execution_count": null,
   "id": "1a30bc0a",
   "metadata": {},
   "outputs": [],
   "source": []
  }
 ],
 "metadata": {
  "kernelspec": {
   "display_name": "Python [conda env:lensless] *",
   "language": "python",
   "name": "conda-env-lensless-py"
  },
  "language_info": {
   "codemirror_mode": {
    "name": "ipython",
    "version": 3
   },
   "file_extension": ".py",
   "mimetype": "text/x-python",
   "name": "python",
   "nbconvert_exporter": "python",
   "pygments_lexer": "ipython3",
   "version": "3.7.13"
  }
 },
 "nbformat": 4,
 "nbformat_minor": 5
}
